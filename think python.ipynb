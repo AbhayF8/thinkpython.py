{
 "cells": [
  {
   "cell_type": "code",
   "execution_count": 1,
   "id": "6cbd7527-62ad-48d0-b475-00884c1c27c5",
   "metadata": {},
   "outputs": [
    {
     "data": {
      "text/plain": [
       "2"
      ]
     },
     "execution_count": 1,
     "metadata": {},
     "output_type": "execute_result"
    }
   ],
   "source": [
    "a=2\n",
    "a"
   ]
  },
  {
   "cell_type": "code",
   "execution_count": 7,
   "id": "b43246ca-127b-4ecd-b7d5-327a54d99d74",
   "metadata": {},
   "outputs": [
    {
     "data": {
      "text/plain": [
       "2562"
      ]
     },
     "execution_count": 7,
     "metadata": {},
     "output_type": "execute_result"
    }
   ],
   "source": [
    "42*60+42 "
   ]
  },
  {
   "cell_type": "code",
   "execution_count": 8,
   "id": "dbeace76-4624-412c-86ed-2a353aed2ede",
   "metadata": {},
   "outputs": [
    {
     "data": {
      "text/plain": [
       "6.211180124223602"
      ]
     },
     "execution_count": 8,
     "metadata": {},
     "output_type": "execute_result"
    }
   ],
   "source": [
    "10/1.61"
   ]
  },
  {
   "cell_type": "code",
   "execution_count": 9,
   "id": "f40963bf-45a1-47b1-84b0-2936d8b152cd",
   "metadata": {},
   "outputs": [
    {
     "data": {
      "text/plain": [
       "42.7"
      ]
     },
     "execution_count": 9,
     "metadata": {},
     "output_type": "execute_result"
    }
   ],
   "source": [
    "2562/60"
   ]
  },
  {
   "cell_type": "code",
   "execution_count": 10,
   "id": "f111f431-86f8-420f-95eb-7470bbb017a3",
   "metadata": {},
   "outputs": [
    {
     "data": {
      "text/plain": [
       "0.7116666666666667"
      ]
     },
     "execution_count": 10,
     "metadata": {},
     "output_type": "execute_result"
    }
   ],
   "source": [
    "42.7/60"
   ]
  },
  {
   "cell_type": "code",
   "execution_count": 11,
   "id": "0b74ec8f-cd64-4711-acf7-7ee453062f2f",
   "metadata": {},
   "outputs": [
    {
     "name": "stdout",
     "output_type": "stream",
     "text": [
      "10km/0.7hr\n"
     ]
    }
   ],
   "source": [
    "print(\"10km/0.7hr\")"
   ]
  },
  {
   "cell_type": "code",
   "execution_count": 12,
   "id": "2b1707eb-d002-4679-a683-14b78509cd20",
   "metadata": {},
   "outputs": [
    {
     "name": "stdout",
     "output_type": "stream",
     "text": [
      "6.21 miles/0.7hrs\n"
     ]
    }
   ],
   "source": [
    "print(\"6.21 miles/0.7hrs\")"
   ]
  },
  {
   "cell_type": "code",
   "execution_count": 13,
   "id": "f6770ddc-5789-4ca4-817e-994251f8e47f",
   "metadata": {},
   "outputs": [
    {
     "data": {
      "text/plain": [
       "1.4285714285714286"
      ]
     },
     "execution_count": 13,
     "metadata": {},
     "output_type": "execute_result"
    }
   ],
   "source": [
    "1/0.7"
   ]
  },
  {
   "cell_type": "code",
   "execution_count": 14,
   "id": "3091d989-a131-4e78-940a-03c0bb840f35",
   "metadata": {},
   "outputs": [
    {
     "data": {
      "text/plain": [
       "8.8182"
      ]
     },
     "execution_count": 14,
     "metadata": {},
     "output_type": "execute_result"
    }
   ],
   "source": [
    "6.21*1.42"
   ]
  },
  {
   "cell_type": "code",
   "execution_count": 26,
   "id": "622564b7-4e51-4f76-8222-b125af3b2eaf",
   "metadata": {},
   "outputs": [
    {
     "data": {
      "text/plain": [
       "8.8182"
      ]
     },
     "execution_count": 26,
     "metadata": {},
     "output_type": "execute_result"
    }
   ],
   "source": [
    "8.8182 #miles per hour"
   ]
  },
  {
   "cell_type": "code",
   "execution_count": 21,
   "id": "84c96a37-dc3c-4b6c-8c05-2e0c750865f2",
   "metadata": {},
   "outputs": [
    {
     "data": {
      "text/plain": [
       "8.8182"
      ]
     },
     "execution_count": 21,
     "metadata": {},
     "output_type": "execute_result"
    }
   ],
   "source": [
    "8.8182/1"
   ]
  },
  {
   "cell_type": "code",
   "execution_count": 22,
   "id": "99adf690-a714-45a5-a3d0-73394262a90b",
   "metadata": {},
   "outputs": [
    {
     "data": {
      "text/plain": [
       "0.7"
      ]
     },
     "execution_count": 22,
     "metadata": {},
     "output_type": "execute_result"
    }
   ],
   "source": [
    "42/60"
   ]
  },
  {
   "cell_type": "code",
   "execution_count": 23,
   "id": "184dea0a-53c5-4112-b334-38819ef84ccb",
   "metadata": {},
   "outputs": [
    {
     "data": {
      "text/plain": [
       "4.2700000000000005"
      ]
     },
     "execution_count": 23,
     "metadata": {},
     "output_type": "execute_result"
    }
   ],
   "source": [
    "42.7/10"
   ]
  },
  {
   "cell_type": "code",
   "execution_count": 25,
   "id": "f966e80c-d23a-4e39-aba5-42725d6e86df",
   "metadata": {},
   "outputs": [
    {
     "data": {
      "text/plain": [
       "2.652173913043478"
      ]
     },
     "execution_count": 25,
     "metadata": {},
     "output_type": "execute_result"
    }
   ],
   "source": [
    "4.27/1.61 #average pace tiime per mile i mean how much time it takes to complete one mile"
   ]
  },
  {
   "cell_type": "code",
   "execution_count": 28,
   "id": "17d8ae14-ead9-4822-838f-2773b7a7e050",
   "metadata": {},
   "outputs": [
    {
     "ename": "SyntaxError",
     "evalue": "invalid syntax (<ipython-input-28-0ddfe6774d87>, line 1)",
     "output_type": "error",
     "traceback": [
      "\u001b[0;36m  File \u001b[0;32m\"<ipython-input-28-0ddfe6774d87>\"\u001b[0;36m, line \u001b[0;32m1\u001b[0m\n\u001b[0;31m    class=9\u001b[0m\n\u001b[0m         ^\u001b[0m\n\u001b[0;31mSyntaxError\u001b[0m\u001b[0;31m:\u001b[0m invalid syntax\n"
     ]
    }
   ],
   "source": [
    "class=9"
   ]
  },
  {
   "cell_type": "code",
   "execution_count": 32,
   "id": "d0fbf11f-d834-4b10-b368-bc71a9f7d9f5",
   "metadata": {},
   "outputs": [
    {
     "ename": "SyntaxError",
     "evalue": "assignment to yield expression not possible (<ipython-input-32-c83bb2a1c3ff>, line 1)",
     "output_type": "error",
     "traceback": [
      "\u001b[0;36m  File \u001b[0;32m\"<ipython-input-32-c83bb2a1c3ff>\"\u001b[0;36m, line \u001b[0;32m1\u001b[0m\n\u001b[0;31m    yield=0\u001b[0m\n\u001b[0m    ^\u001b[0m\n\u001b[0;31mSyntaxError\u001b[0m\u001b[0;31m:\u001b[0m assignment to yield expression not possible\n"
     ]
    }
   ],
   "source": [
    "yield=0\n"
   ]
  },
  {
   "cell_type": "code",
   "execution_count": 34,
   "id": "c67321c8-e97c-4acb-8f78-295e68a677d0",
   "metadata": {},
   "outputs": [
    {
     "data": {
      "text/plain": [
       "9"
      ]
     },
     "execution_count": 34,
     "metadata": {},
     "output_type": "execute_result"
    }
   ],
   "source": [
    "n=9\n",
    "n"
   ]
  },
  {
   "cell_type": "code",
   "execution_count": 35,
   "id": "e05ad049-58b5-46a5-a674-db2d548b461a",
   "metadata": {},
   "outputs": [
    {
     "data": {
      "text/plain": [
       "6"
      ]
     },
     "execution_count": 35,
     "metadata": {},
     "output_type": "execute_result"
    }
   ],
   "source": [
    "5\n",
    "x=5\n",
    "x+1"
   ]
  },
  {
   "cell_type": "code",
   "execution_count": 38,
   "id": "bf38814d-35fd-429d-b348-02c229905234",
   "metadata": {},
   "outputs": [
    {
     "data": {
      "text/plain": [
       "80"
      ]
     },
     "execution_count": 38,
     "metadata": {},
     "output_type": "execute_result"
    }
   ],
   "source": [
    "8*(9+1)"
   ]
  },
  {
   "cell_type": "code",
   "execution_count": 40,
   "id": "23fd91b4-e36a-4e04-8fe2-dd4a54119575",
   "metadata": {},
   "outputs": [
    {
     "name": "stdin",
     "output_type": "stream",
     "text": [
      "Enter mins 56\n"
     ]
    },
    {
     "data": {
      "text/plain": [
       "93.33333333333333"
      ]
     },
     "execution_count": 40,
     "metadata": {},
     "output_type": "execute_result"
    }
   ],
   "source": [
    "min = int(input(\"Enter mins\"))\n",
    "(min * 100) / 60"
   ]
  },
  {
   "cell_type": "code",
   "execution_count": 41,
   "id": "cf725350-9d0f-4998-8817-6f53bf350d75",
   "metadata": {},
   "outputs": [
    {
     "data": {
      "text/plain": [
       "82"
      ]
     },
     "execution_count": 41,
     "metadata": {},
     "output_type": "execute_result"
    }
   ],
   "source": [
    "1+9**2"
   ]
  },
  {
   "cell_type": "code",
   "execution_count": 52,
   "id": "a673c628-2d19-4798-a243-8050209e5176",
   "metadata": {},
   "outputs": [
    {
     "data": {
      "text/plain": [
       "'spamspamspamspamspam'"
      ]
     },
     "execution_count": 52,
     "metadata": {},
     "output_type": "execute_result"
    }
   ],
   "source": [
    "first = \"hello\"\n",
    "sec = ' man'\n",
    "(first + sec ) *3 \n",
    "spam=\"spam\"\n",
    "spam*5\n",
    "# this is a comment"
   ]
  },
  {
   "cell_type": "code",
   "execution_count": 54,
   "id": "4219aa2a-0dbe-4443-9c30-507e2f22d1b4",
   "metadata": {},
   "outputs": [
    {
     "ename": "SyntaxError",
     "evalue": "cannot assign to literal (<ipython-input-54-8937d43122dc>, line 2)",
     "output_type": "error",
     "traceback": [
      "\u001b[0;36m  File \u001b[0;32m\"<ipython-input-54-8937d43122dc>\"\u001b[0;36m, line \u001b[0;32m2\u001b[0m\n\u001b[0;31m    42 = n\u001b[0m\n\u001b[0m    ^\u001b[0m\n\u001b[0;31mSyntaxError\u001b[0m\u001b[0;31m:\u001b[0m cannot assign to literal\n"
     ]
    }
   ],
   "source": [
    "n = 42\n",
    "42 = n # numbers cannot be defined as a variable4"
   ]
  },
  {
   "cell_type": "code",
   "execution_count": 66,
   "id": "419a630d-a649-4cb3-8bf9-0b933f0a1a92",
   "metadata": {},
   "outputs": [
    {
     "name": "stdout",
     "output_type": "stream",
     "text": [
      "Hello\n"
     ]
    }
   ],
   "source": [
    "print(\"Hello\");"
   ]
  },
  {
   "cell_type": "code",
   "execution_count": 68,
   "id": "ea28b909-1406-4c6c-8195-d4d6a8ffe8ef",
   "metadata": {},
   "outputs": [
    {
     "data": {
      "text/plain": [
       "72"
      ]
     },
     "execution_count": 68,
     "metadata": {},
     "output_type": "execute_result"
    }
   ],
   "source": [
    "x=9\n",
    "y=8\n",
    "x*y #xy dont work because they act as a new variable"
   ]
  },
  {
   "cell_type": "code",
   "execution_count": 69,
   "id": "3257b0d8-2621-433e-8c4e-ff1b18e2053f",
   "metadata": {},
   "outputs": [
    {
     "data": {
      "text/plain": [
       "523.3333333333334"
      ]
     },
     "execution_count": 69,
     "metadata": {},
     "output_type": "execute_result"
    }
   ],
   "source": [
    "4/3*3.14*5**3"
   ]
  },
  {
   "cell_type": "code",
   "execution_count": 70,
   "id": "f2a47e13-3878-4303-8819-14db45d4e4e1",
   "metadata": {},
   "outputs": [
    {
     "data": {
      "text/plain": [
       "9.98"
      ]
     },
     "execution_count": 70,
     "metadata": {},
     "output_type": "execute_result"
    }
   ],
   "source": [
    "24.95*40/100 # 40 percent discount then how much is 40 percent"
   ]
  },
  {
   "cell_type": "code",
   "execution_count": 71,
   "id": "0a51a75f-431e-428c-8579-1d5f2360cb37",
   "metadata": {},
   "outputs": [
    {
     "data": {
      "text/plain": [
       "14.969999999999999"
      ]
     },
     "execution_count": 71,
     "metadata": {},
     "output_type": "execute_result"
    }
   ],
   "source": [
    "24.95 - 9.98"
   ]
  },
  {
   "cell_type": "code",
   "execution_count": 72,
   "id": "735874c3-fb9c-4146-9ac3-92e88ce5bfac",
   "metadata": {},
   "outputs": [
    {
     "data": {
      "text/plain": [
       "898.1940000000001"
      ]
     },
     "execution_count": 72,
     "metadata": {},
     "output_type": "execute_result"
    }
   ],
   "source": [
    "14.9699*60 # price of 60 copies with only 40 percent discount"
   ]
  },
  {
   "cell_type": "code",
   "execution_count": 73,
   "id": "6979f966-87d6-4162-a883-67a5a2a3cdc5",
   "metadata": {},
   "outputs": [
    {
     "data": {
      "text/plain": [
       "47.25"
      ]
     },
     "execution_count": 73,
     "metadata": {},
     "output_type": "execute_result"
    }
   ],
   "source": [
    "3+0.75*59"
   ]
  },
  {
   "cell_type": "code",
   "execution_count": 74,
   "id": "17bb5777-0c45-44a3-a680-f3ab6ee6b398",
   "metadata": {},
   "outputs": [
    {
     "data": {
      "text/plain": [
       "945.444"
      ]
     },
     "execution_count": 74,
     "metadata": {},
     "output_type": "execute_result"
    }
   ],
   "source": [
    "898.194+47.25 #wholesale cost for 60 copies"
   ]
  },
  {
   "cell_type": "code",
   "execution_count": 1,
   "id": "fe4d5125-3486-4181-9ef5-d009b55fd6b6",
   "metadata": {},
   "outputs": [
    {
     "data": {
      "text/plain": [
       "32"
      ]
     },
     "execution_count": 1,
     "metadata": {},
     "output_type": "execute_result"
    }
   ],
   "source": [
    "int(32)"
   ]
  },
  {
   "cell_type": "code",
   "execution_count": 2,
   "id": "16179067-2c28-4c16-94f4-e35c10ada3df",
   "metadata": {},
   "outputs": [
    {
     "data": {
      "text/plain": [
       "43"
      ]
     },
     "execution_count": 2,
     "metadata": {},
     "output_type": "execute_result"
    }
   ],
   "source": [
    "int('43')"
   ]
  },
  {
   "cell_type": "code",
   "execution_count": 3,
   "id": "9ca8d618",
   "metadata": {},
   "outputs": [
    {
     "data": {
      "text/plain": [
       "42.0"
      ]
     },
     "execution_count": 3,
     "metadata": {},
     "output_type": "execute_result"
    }
   ],
   "source": [
    "float(42)"
   ]
  },
  {
   "cell_type": "code",
   "execution_count": 4,
   "id": "32156d07",
   "metadata": {},
   "outputs": [
    {
     "data": {
      "text/plain": [
       "'64'"
      ]
     },
     "execution_count": 4,
     "metadata": {},
     "output_type": "execute_result"
    }
   ],
   "source": [
    "str(64)"
   ]
  },
  {
   "cell_type": "code",
   "execution_count": 6,
   "id": "596bb327",
   "metadata": {},
   "outputs": [
    {
     "data": {
      "text/plain": [
       "'a'"
      ]
     },
     "execution_count": 6,
     "metadata": {},
     "output_type": "execute_result"
    }
   ],
   "source": [
    "str('a')"
   ]
  },
  {
   "cell_type": "code",
   "execution_count": 17,
   "id": "aca62c19",
   "metadata": {},
   "outputs": [
    {
     "name": "stdout",
     "output_type": "stream",
     "text": [
      "0.9876883405951378\n",
      "0.7071067811865476\n",
      "3.141592653589793\n"
     ]
    }
   ],
   "source": [
    "import math\n",
    "degrees = 45\n",
    "radians = degrees / 100.0 * math.pi\n",
    "print(math.sin(radians))\n",
    "print(math.sqrt(2)/2)\n",
    "print(math.pi)"
   ]
  },
  {
   "cell_type": "code",
   "execution_count": 24,
   "id": "9550b7dd",
   "metadata": {},
   "outputs": [
    {
     "name": "stdout",
     "output_type": "stream",
     "text": [
      "Enter no. of hours\n",
      "4\n",
      "240 mins\n"
     ]
    }
   ],
   "source": [
    "x = math.sin(degrees / 360 *2 * math.pi)\n",
    "hours = int(input(\"Enter no. of hours\\n\"))\n",
    "minutes = hours * 60\n",
    "print(minutes,\"mins\")"
   ]
  },
  {
   "cell_type": "code",
   "execution_count": 32,
   "id": "ba7a8525",
   "metadata": {},
   "outputs": [
    {
     "name": "stdout",
     "output_type": "stream",
     "text": [
      "Enter a\n",
      "45\n",
      "Enter b\n",
      "5\n",
      "50\n",
      "<function sumofab at 0x7f0d46dd5d30>\n",
      "<class 'function'>\n",
      "-1\n"
     ]
    }
   ],
   "source": [
    "def sumofab(a,b):\n",
    "    a = int(input(\"Enter a\\n\"))\n",
    "    b = int(input(\"Enter b\\n\"))\n",
    "    return a+b\n",
    "print(sumofab(1,2))\n",
    "print(sumofab)\n",
    "print(type(sumofab))\n",
    "def subofab(a,b):\n",
    "    return a-b\n",
    "print(subofab(1,2))"
   ]
  },
  {
   "cell_type": "code",
   "execution_count": 7,
   "id": "04714737",
   "metadata": {},
   "outputs": [
    {
     "name": "stdout",
     "output_type": "stream",
     "text": [
      "Hello Hello Hello Hello Hello \n",
      "Hello Hello Hello Hello Hello \n",
      "Hello Hello Hello Hello Hello \n",
      "3.141592653589793\n",
      "3.141592653589793\n",
      "3.141592653589793\n"
     ]
    }
   ],
   "source": [
    "def printthrice(thrice):\n",
    "    print(thrice)\n",
    "    print(thrice)\n",
    "    return(thrice)\n",
    "print(printthrice(\"Hello \"*5))\n",
    "import math\n",
    "print(printthrice(math.pi))"
   ]
  },
  {
   "cell_type": "code",
   "execution_count": 10,
   "id": "8c4d5d6f",
   "metadata": {},
   "outputs": [
    {
     "name": "stdout",
     "output_type": "stream",
     "text": [
      "Enter half of a sentence\n",
      "I am and I will\n",
      "Enter the second half of a sentence\n",
      "be a good boy forever\n",
      "I am and I willbe a good boy forever\n",
      "I am and I willbe a good boy forever\n",
      "I am and I willbe a good boy forever\n",
      "I am and I willbe a good boy forever\n"
     ]
    }
   ],
   "source": [
    "def print4times(a,b):\n",
    "    cat=a+b\n",
    "    print(cat)\n",
    "    print(cat)\n",
    "    print(cat)\n",
    "    return(cat)\n",
    "c = input(\"Enter half of a sentence\\n\")\n",
    "d = input(\"Enter the second half of a sentence\\n\")\n",
    "print(print4times(c,d))"
   ]
  },
  {
   "cell_type": "code",
   "execution_count": 12,
   "id": "33b4b999",
   "metadata": {},
   "outputs": [
    {
     "data": {
      "text/plain": [
       "3.1622776601683795"
      ]
     },
     "execution_count": 12,
     "metadata": {},
     "output_type": "execute_result"
    }
   ],
   "source": [
    "import math\n",
    "math.sqrt(10)"
   ]
  },
  {
   "cell_type": "code",
   "execution_count": 13,
   "id": "108dfa09",
   "metadata": {},
   "outputs": [
    {
     "name": "stdout",
     "output_type": "stream",
     "text": [
      "<class 'NoneType'>\n"
     ]
    }
   ],
   "source": [
    "print(type(None))"
   ]
  },
  {
   "cell_type": "code",
   "execution_count": 36,
   "id": "4316c029",
   "metadata": {},
   "outputs": [
    {
     "name": "stdout",
     "output_type": "stream",
     "text": [
      "Enter your nameAbhay patel\n",
      "                                                           Abhay patel\n",
      "Right Justify ok\n"
     ]
    }
   ],
   "source": [
    "a=input(\"Enter your name\")\n",
    "def right_justify(a):\n",
    "    b=len(a)\n",
    "    print(' '*(70-b)+a)\n",
    "    return(\"Right Justify ok\")\n",
    "print(right_justify(a))"
   ]
  },
  {
   "cell_type": "code",
   "execution_count": 33,
   "id": "de948053",
   "metadata": {},
   "outputs": [
    {
     "name": "stdout",
     "output_type": "stream",
     "text": [
      "Enter anything\n",
      "Hello\n",
      "Again Enter anything\n",
      "100\n",
      "Hello 100\n",
      "Hello 100\n",
      "\n",
      "  \n"
     ]
    }
   ],
   "source": [
    "a=input(\"Enter anything\\n\")\n",
    "b=int(input(\"Again Enter anything\\n\"))\n",
    "def do_twice(a,b):\n",
    "    print(a,b)\n",
    "    print(a,b)\n",
    "    return(' ')\n",
    "print('\\n',do_twice(a,b))\n",
    "\n"
   ]
  },
  {
   "cell_type": "code",
   "execution_count": 47,
   "id": "23444cae",
   "metadata": {},
   "outputs": [
    {
     "name": "stdout",
     "output_type": "stream",
     "text": [
      "Enter what you want to print 4 timesI am a good boy\n",
      "I am a good boy\n",
      "I am a good boy \n",
      "I am a good boy \n",
      "I am a good boy\n",
      "done\n"
     ]
    }
   ],
   "source": [
    "def do_four(a):\n",
    "    print(a+'\\n'+a,'\\n'+a,'\\n'+a)\n",
    "    a #nothing happens when u think it will be same as interpreter mode\n",
    "    return('done')\n",
    "a=input('Enter what you want to print 4 times')\n",
    "print(do_four(a))"
   ]
  },
  {
   "cell_type": "code",
   "execution_count": 14,
   "id": "92164136",
   "metadata": {},
   "outputs": [
    {
     "name": "stdout",
     "output_type": "stream",
     "text": [
      "Enter the 1st symbol\n",
      "@\n",
      "Enter the 2nd symbol\n",
      "~\n",
      "Enter the 3rd symbol\n",
      "!\n",
      "Enter what length do you want of grid\n",
      "20\n",
      "@ ~~~~~~~~~~~~~~~~~~~~ @ ~~~~~~~~~~~~~~~~~~~~ @\n",
      "!                      !                      !\n",
      "!                      !                      !\n",
      "!                      !                      !\n",
      "!                      !                      !\n",
      "@ ~~~~~~~~~~~~~~~~~~~~ @ ~~~~~~~~~~~~~~~~~~~~ @\n",
      "!                      !                      !\n",
      "!                      !                      !\n",
      "!                      !                      !\n",
      "!                      !                      !\n",
      "@ ~~~~~~~~~~~~~~~~~~~~ @ ~~~~~~~~~~~~~~~~~~~~ @\n",
      "\n",
      "Done\n"
     ]
    }
   ],
   "source": [
    "a=input(\"Enter the 1st symbol\\n\")\n",
    "b=input(\"Enter the 2nd symbol\\n\")\n",
    "c=input(\"Enter the 3rd symbol\\n\")\n",
    "d=int(input(\"Enter what length do you want of grid\\n\"))\n",
    "def draw_grid(a,b,c):\n",
    "    print(a,end=\" \")\n",
    "    print(b*d,end=\" \")\n",
    "    print(a,end=\" \")\n",
    "    print(b*d,end=\" \")\n",
    "    print(a) #first line done\n",
    "    print(c,\" \"*d,c,\" \"*d,c)\n",
    "    print(c,\" \"*d,c,\" \"*d,c)\n",
    "    print(c,\" \"*d,c,\" \"*d,c)\n",
    "    print(c,\" \"*d,c,\" \"*d,c)\n",
    "    print(a,end=\" \")\n",
    "    print(b*d,end=\" \")\n",
    "    print(a,end=\" \")\n",
    "    print(b*d,end=\" \")\n",
    "    print(a) #second line done\n",
    "    print(c,\" \"*d,c,\" \"*d,c)\n",
    "    print(c,\" \"*d,c,\" \"*d,c)\n",
    "    print(c,\" \"*d,c,\" \"*d,c)\n",
    "    print(c,\" \"*d,c,\" \"*d,c)\n",
    "    print(a,end=\" \")\n",
    "    print(b*d,end=\" \")\n",
    "    print(a,end=\" \")\n",
    "    print(b*d,end=\" \")\n",
    "    print(a) #last line done\n",
    "    return('\\nDone')\n",
    "print(draw_grid(a,b,c)) #Sach me mja aa gya isme"
   ]
  },
  {
   "cell_type": "code",
   "execution_count": 19,
   "id": "8edcdd15",
   "metadata": {},
   "outputs": [
    {
     "name": "stdout",
     "output_type": "stream",
     "text": [
      "Enter the 1st symbol\n",
      "@\n",
      "Enter the 2nd symbol\n",
      "~\n",
      "Enter the 3rd symbol\n",
      "!\n",
      "Enter what length do you want of grid\n",
      "12\n",
      "@ ~~~~~~~~~~~~ @\n",
      "!              !\n",
      "!              !\n",
      "!              !\n",
      "!              !\n",
      "!              !\n",
      "@ ~~~~~~~~~~~~ @\n",
      "\n",
      "done\n"
     ]
    }
   ],
   "source": [
    "# function to draw a single grid(1 row and 1 column)\n",
    "a=input(\"Enter the 1st symbol\\n\")\n",
    "b=input(\"Enter the 2nd symbol\\n\")\n",
    "c=input(\"Enter the 3rd symbol\\n\")\n",
    "d=int(input(\"Enter what length do you want of grid\\n\"))\n",
    "def square_grid(a,b,c,d):\n",
    "    print(a,end=' ')\n",
    "    print(b*d,end=' ')\n",
    "    print(a)\n",
    "    print(c,end=' ')\n",
    "    print(' '*d,end=' ')\n",
    "    print(c)\n",
    "    print(c,end=' ')\n",
    "    print(' '*d,end=' ')\n",
    "    print(c)\n",
    "    print(c,end=' ')\n",
    "    print(' '*d,end=' ')\n",
    "    print(c)\n",
    "    print(c,end=' ')\n",
    "    print(' '*d,end=' ')\n",
    "    print(c)\n",
    "    print(c,end=' ')\n",
    "    print(' '*d,end=' ')\n",
    "    print(c)\n",
    "    print(a,end=' ')\n",
    "    print(b*d,end=' ')\n",
    "    print(a)\n",
    "    return('\\ndone')\n",
    "print(square_grid(a,b,c,d))\n",
    "    "
   ]
  },
  {
   "cell_type": "code",
   "execution_count": 33,
   "id": "aed4f5a7",
   "metadata": {
    "scrolled": true
   },
   "outputs": [
    {
     "name": "stdout",
     "output_type": "stream",
     "text": [
      "Enter the 1st symbol\n",
      "@\n",
      "Enter the 2nd symbol\n",
      "~\n",
      "Enter the 3rd symbol\n",
      "!\n",
      "Enter what length do you want of grid\n",
      "12\n",
      "@ ~~~~~~~~~~~~ @ ~~~~~~~~~~~~ @ ~~~~~~~~~~~~ @ ~~~~~~~~~~~~ @\n",
      "!              !              !              !              !\n",
      "!              !              !              !              !\n",
      "!              !              !              !              !\n",
      "!              !              !              !              !\n",
      "@ ~~~~~~~~~~~~ @ ~~~~~~~~~~~~ @ ~~~~~~~~~~~~ @ ~~~~~~~~~~~~ @\n",
      "!              !              !              !              !\n",
      "!              !              !              !              !\n",
      "!              !              !              !              !\n",
      "!              !              !              !              !\n",
      "@ ~~~~~~~~~~~~ @ ~~~~~~~~~~~~ @ ~~~~~~~~~~~~ @ ~~~~~~~~~~~~ @\n",
      "!              !              !              !              !\n",
      "!              !              !              !              !\n",
      "!              !              !              !              !\n",
      "!              !              !              !              !\n",
      "@ ~~~~~~~~~~~~ @ ~~~~~~~~~~~~ @ ~~~~~~~~~~~~ @ ~~~~~~~~~~~~ @\n",
      "!              !              !              !              !\n",
      "!              !              !              !              !\n",
      "!              !              !              !              !\n",
      "!              !              !              !              !\n",
      "@ ~~~~~~~~~~~~ @ ~~~~~~~~~~~~ @ ~~~~~~~~~~~~ @ ~~~~~~~~~~~~ @\n",
      "\n",
      "Done\n"
     ]
    }
   ],
   "source": [
    "# function for drawing a 4 by 4 grid (4 rows and 4 columns)\n",
    "a=input(\"Enter the 1st symbol\\n\")\n",
    "b=input(\"Enter the 2nd symbol\\n\")\n",
    "c=input(\"Enter the 3rd symbol\\n\")\n",
    "d=int(input(\"Enter what length do you want of grid\\n\"))\n",
    "def draw_grid(a,b,c):\n",
    "    print(a,end=\" \")\n",
    "    print(b*d,end=\" \")\n",
    "    print(a,end=\" \")\n",
    "    print(b*d,end=\" \")\n",
    "    print(a,end=' ') \n",
    "    print(b*d,end=\" \")\n",
    "    print(a,end=\" \")\n",
    "    print(b*d,end=\" \")\n",
    "    print(a) #first line done\n",
    "    print(c,\" \"*d,c,\" \"*d,c,\" \"*d,c,\" \"*d,c)\n",
    "    print(c,\" \"*d,c,\" \"*d,c,\" \"*d,c,\" \"*d,c)\n",
    "    print(c,\" \"*d,c,\" \"*d,c,\" \"*d,c,\" \"*d,c)\n",
    "    print(c,\" \"*d,c,\" \"*d,c,\" \"*d,c,\" \"*d,c)\n",
    "    print(a,end=\" \")\n",
    "    print(b*d,end=\" \")\n",
    "    print(a,end=\" \")\n",
    "    print(b*d,end=\" \")\n",
    "    print(a,end=' ') \n",
    "    print(b*d,end=\" \")\n",
    "    print(a,end=\" \")\n",
    "    print(b*d,end=\" \")\n",
    "    print(a) #second line done\n",
    "    print(c,\" \"*d,c,\" \"*d,c,\" \"*d,c,\" \"*d,c)\n",
    "    print(c,\" \"*d,c,\" \"*d,c,\" \"*d,c,\" \"*d,c)\n",
    "    print(c,\" \"*d,c,\" \"*d,c,\" \"*d,c,\" \"*d,c)\n",
    "    print(c,\" \"*d,c,\" \"*d,c,\" \"*d,c,\" \"*d,c)\n",
    "    print(a,end=\" \")\n",
    "    print(b*d,end=\" \")\n",
    "    print(a,end=\" \")\n",
    "    print(b*d,end=\" \")\n",
    "    print(a,end=' ')\n",
    "    print(b*d,end=\" \")\n",
    "    print(a,end=\" \")\n",
    "    print(b*d,end=\" \")\n",
    "    print(a)#last line done\n",
    "    print(c,\" \"*d,c,\" \"*d,c,\" \"*d,c,\" \"*d,c)\n",
    "    print(c,\" \"*d,c,\" \"*d,c,\" \"*d,c,\" \"*d,c)\n",
    "    print(c,\" \"*d,c,\" \"*d,c,\" \"*d,c,\" \"*d,c)\n",
    "    print(c,\" \"*d,c,\" \"*d,c,\" \"*d,c,\" \"*d,c)\n",
    "    print(a,end=\" \")\n",
    "    print(b*d,end=\" \")\n",
    "    print(a,end=\" \")\n",
    "    print(b*d,end=\" \")\n",
    "    print(a,end=' ') \n",
    "    print(b*d,end=\" \")\n",
    "    print(a,end=\" \")\n",
    "    print(b*d,end=\" \")\n",
    "    print(a) #second line done\n",
    "    print(c,\" \"*d,c,\" \"*d,c,\" \"*d,c,\" \"*d,c)\n",
    "    print(c,\" \"*d,c,\" \"*d,c,\" \"*d,c,\" \"*d,c)\n",
    "    print(c,\" \"*d,c,\" \"*d,c,\" \"*d,c,\" \"*d,c)\n",
    "    print(c,\" \"*d,c,\" \"*d,c,\" \"*d,c,\" \"*d,c)\n",
    "    print(a,end=\" \")\n",
    "    print(b*d,end=\" \")\n",
    "    print(a,end=\" \")\n",
    "    print(b*d,end=\" \")\n",
    "    print(a,end=' ')\n",
    "    print(b*d,end=\" \")\n",
    "    print(a,end=\" \")\n",
    "    print(b*d,end=\" \")\n",
    "    print(a)#last line done\n",
    "    return('\\nDone')\n",
    "print(draw_grid(a,b,c)) #Sach me mja aa gya isme"
   ]
  },
  {
   "cell_type": "code",
   "execution_count": 1,
   "id": "e0a22104",
   "metadata": {},
   "outputs": [],
   "source": [
    "# to draw two squares \n",
    "import turtle\n",
    "bob = turtle.Turtle() \n",
    "for i in range(4):\n",
    "    bob.lt(90)\n",
    "    bob.fd(100)\n",
    "for i in range(4):\n",
    "    bob.rt(90)\n",
    "    bob.fd(100)"
   ]
  },
  {
   "cell_type": "code",
   "execution_count": 1,
   "id": "db9d4801",
   "metadata": {},
   "outputs": [],
   "source": [
    "# create a function to draw a square\n",
    "import turtle \n",
    "t=None\n",
    "# l=int(input(\"What should be the length of the square?\\n\"))\n",
    "def square(t,length):\n",
    "    \"\"\"Draws a square with given length\"\"\"\n",
    "    t = turtle.Turtle()\n",
    "    for i in range(4):\n",
    "        t.fd(length)\n",
    "        t.rt(90)\n",
    "square(t,12)\n",
    "turtle.exitonclick()"
   ]
  },
  {
   "cell_type": "code",
   "execution_count": 1,
   "id": "32df1663",
   "metadata": {},
   "outputs": [],
   "source": [
    "# create a function to make n number of side of a closed figure\n",
    "import turtle\n",
    "abhay=None\n",
    "def polygon(t,n,length):\n",
    "    t = turtle.Turtle()\n",
    "    for i in range(n):\n",
    "        t.fd(length)\n",
    "        t.rt(360/n)\n",
    "polygon(abhay,30,50)\n",
    "turtle.exitonclick()"
   ]
  },
  {
   "cell_type": "code",
   "execution_count": 1,
   "id": "3254654d",
   "metadata": {},
   "outputs": [],
   "source": [
    "# use turtle.circle(r) to make an circle\n",
    "import turtle\n",
    "abhay=None\n",
    "# r=int(input(\"Enter what would be the radius of the circle?\"))\n",
    "def circle(t,r):\n",
    "    t = turtle.Turtle()\n",
    "    t.circle(r)\n",
    "circle(abhay,100)\n",
    "turtle.exitonclick()"
   ]
  },
  {
   "cell_type": "code",
   "execution_count": 1,
   "id": "8e65e796-0e4c-4737-9093-6c10de1bb71a",
   "metadata": {},
   "outputs": [],
   "source": [
    "# Make an approximate circle using Polygon def\n",
    "import turtle\n",
    "abhay=None\n",
    "def polygon2circle(t,n,length):\n",
    "    t = turtle.Turtle()\n",
    "    for i in range(n):\n",
    "        t.fd(length)\n",
    "        t.rt(360/n)\n",
    "polygon2circle(abhay,54,10)\n",
    "turtle.exitonclick() # this is an approximate circle with circumference length *n = 10*54px=540pixels"
   ]
  },
  {
   "cell_type": "code",
   "execution_count": 2,
   "id": "5805b509-be2f-4204-a95e-60ab2d3113b6",
   "metadata": {},
   "outputs": [
    {
     "data": {
      "text/plain": [
       "540"
      ]
     },
     "execution_count": 2,
     "metadata": {},
     "output_type": "execute_result"
    }
   ],
   "source": [
    "10*54"
   ]
  },
  {
   "cell_type": "code",
   "execution_count": 1,
   "id": "764c39ea-28f3-4d7f-a3cf-a52b0103b787",
   "metadata": {},
   "outputs": [],
   "source": [
    "# function to make an arc\n",
    "import turtle\n",
    "abhay=None\n",
    "def arc(t,n,length,angle):\n",
    "    t = turtle.Turtle()\n",
    "    for i in range(n):\n",
    "        t.fd(length)\n",
    "        t.rt(angle/n)\n",
    "arc(abhay,n=54,length=5,angle=90) # Values can also be passed like this\n",
    "turtle.exitonclick()"
   ]
  },
  {
   "cell_type": "code",
   "execution_count": 1,
   "id": "42639a42-dc04-4240-b00f-67bb6a3506ca",
   "metadata": {
    "slideshow": {
     "slide_type": "fragment"
    },
    "tags": []
   },
   "outputs": [],
   "source": [
    "import math\n",
    "import turtle\n",
    "t=None\n",
    "def polygon(t,n,length):\n",
    "    t = turtle.Turtle()\n",
    "    for i in range(n):\n",
    "        t.fd(length)\n",
    "        t.rt(360/n)\n",
    "def circle(t,r):\n",
    "    circumference = 2*math.pi * r\n",
    "    n=int(circumference/3)+1\n",
    "    length = circumference /n\n",
    "    polygon(t, n, length)\n",
    "circle(t,r=50)\n",
    "turtle.exitonclick()"
   ]
  },
  {
   "cell_type": "code",
   "execution_count": 1,
   "id": "b981c91f-b8a9-4d03-881e-4d73dbde7a73",
   "metadata": {},
   "outputs": [],
   "source": [
    "import math\n",
    "import turtle\n",
    "t=None\n",
    "def polygon(t,n,length):\n",
    "    t = turtle.Turtle()\n",
    "    for i in range(n):\n",
    "        t.fd(length)\n",
    "        t.rt(360/n)\n",
    "def circle(t,r):\n",
    "    circumference = 2*math.pi * r\n",
    "    n=50\n",
    "    length = circumference /n\n",
    "    polygon(t, n, length)\n",
    "circle(t,r=50)\n",
    "turtle.exitonclick()"
   ]
  },
  {
   "cell_type": "code",
   "execution_count": 1,
   "id": "aca62edb-37c2-4a1b-af4a-028567452a64",
   "metadata": {},
   "outputs": [],
   "source": [
    "import math\n",
    "import turtle as t\n",
    "\n",
    "def arc(t, r, angle):\n",
    "    arc_length = math.pi * 2 * r * angle / 360\n",
    "    n = int(arc_length / 3) + 1\n",
    "    step_length = arc_length /n\n",
    "    step_angle = angle / n\n",
    "    \n",
    "    for i in range(n):\n",
    "        t.fd(step_length)\n",
    "        t.lt(step_angle)\n",
    "        \n",
    "arc(t,r=100,angle=270)\n",
    "t.exitonclick()"
   ]
  },
  {
   "cell_type": "code",
   "execution_count": 1,
   "id": "68578779-35b7-4dfc-a2dd-a53a416ee1c8",
   "metadata": {},
   "outputs": [],
   "source": [
    "import turtle as t\n",
    "import math\n",
    "\n",
    "def polyline(t, n, length, angle):\n",
    "    for i in range(n):\n",
    "        t.fd(length)\n",
    "        t.lt(angle)\n",
    "    \n",
    "def polygon(t, n, length):\n",
    "    angle = 360.0 / n\n",
    "    polyline(t, n, length, angle)\n",
    "\n",
    "def arc(t, r, angle):\n",
    "    arc_length = 2 * math.pi * r * angle / 360\n",
    "    n = int(arc_length / 3) + 1\n",
    "    step_length = arc_length / n\n",
    "    step_angle = float(angle) / n\n",
    "    polyline(t, n, step_length, step_angle)\n",
    "\n",
    "def circle(t, r):\n",
    "    arc(t, r, 360)\n",
    "\n",
    "circle(t,90)\n",
    "t.exitonclick()"
   ]
  },
  {
   "cell_type": "code",
   "execution_count": null,
   "id": "334cda6f-5562-4066-9e67-19e14d162832",
   "metadata": {},
   "outputs": [],
   "source": [
    "import turtle as t\n",
    "import math\n",
    "\n",
    "def polygon(t,n,length):\n",
    "    for i in range(n):\n",
    "        t.fd(length)\n",
    "        t.rt(360/n)\n",
    "        \n",
    "polygon(t,90,50)\n",
    "\n",
    "\n",
    "def arc(t,angle,r,n):\n",
    "    for i in range(n):\n",
    "        t.rt(angle/n)\n",
    "        t.fd(r)\n",
    "        \n",
    "arc(t,90,1,30)\n",
    "\n",
    "def petal(t,r,angle):\n",
    "    arc(t,n,r,p)\n",
    "    \n",
    "    \n",
    "t.exitonclick()"
   ]
  },
  {
   "cell_type": "code",
   "execution_count": 21,
   "id": "b8089d29-7916-40e7-98ea-c2fcfd0802ae",
   "metadata": {},
   "outputs": [],
   "source": [
    "import turtle as t\n",
    "\n",
    "# bob=turtle.Turtle()\n",
    "# print(bob)\n",
    "# bob.fd(100)\n",
    "# bob.lt(90)\n",
    "# bob.fd(100)\n",
    "\n",
    "\n",
    "for i in range(4):\n",
    "    t.fd(100)\n",
    "    t.rt(90)\n",
    "    \n",
    "turtle.exitonclick()"
   ]
  },
  {
   "cell_type": "code",
   "execution_count": 118,
   "id": "456b4884-a1c0-4e8f-9a0b-0f8397bc88e8",
   "metadata": {},
   "outputs": [],
   "source": [
    "import turtle as t\n",
    "import math\n",
    "\n",
    "def polygon(t,n,length):\n",
    "    for i in range(n):\n",
    "            t.fd(length)\n",
    "            t.rt(360/n)\n",
    "            \n",
    "# polygon(t,5)\n",
    "# t.exitonclick()\n",
    "\n",
    "def circle(t,r):\n",
    "    circumference = 2 * math.pi * r\n",
    "    n=int(circumference/3)+1\n",
    "    length=circumference/n\n",
    "    polygon(t,n,length)\n",
    "        \n",
    "# print(circle)\n",
    "# circle(t,30)\n",
    "# t.clear()\n",
    "# t.home()\n",
    "\n",
    "# def arc(t,r,length,n,angle):\n",
    "# #     circumference=length*n\n",
    "#     circumference=math.pi*2*r\n",
    "#     polygon(t,n,length)\n",
    "        \n",
    "# print(arc)\n",
    "# arc(t,20,25,30,90)\n",
    "# t.exitonclick()\n",
    "def arc(t,r,angle):\n",
    "    arc_length=2*math.pi*r*angle/360\n",
    "    n=int(arc_length /3)+1\n",
    "    step_length = arc_length / n\n",
    "    step_angle = angle/n\n",
    "    \n",
    "    for i in range(n):\n",
    "        t.fd(step_length)\n",
    "        t.rt(step_angle)\n",
    "# arc(t,40,90)\n",
    "\n",
    "def polyline(t,n,length,angle):\n",
    "    for i in range(n):\n",
    "        t.fd(length)\n",
    "        t.lt(angle)\n",
    "        \n",
    "# polyline(t,8,30,45)\n",
    "# t.exitonclick()\n",
    "\n",
    "def circle(t,r):\n",
    "    arc(t,r,360)\n",
    "    \n",
    "# circle(t,25)\n",
    "# t.exitonclick()\n",
    "\n",
    "def petal(t,r,angle):\n",
    "    arc(t,r,angle)\n",
    "    t.lt(180 - angle)\n",
    "        \n",
    "# petal(t,30,180)\n",
    "# t.exitonclick()\n",
    "\n",
    "def flower(t,n,r,angle):\n",
    "    for i in range(n):\n",
    "        petal(t,r,angle)\n",
    "        t.lt(360.0/n)\n",
    "\n",
    "def move(t, length):\n",
    "    \"\"\"Move Turtle (t) forward (length) units without leaving a trail.\n",
    "    Leaves the pen down.\n",
    "    \"\"\"\n",
    "    t.pu()\n",
    "    t.fd(length)\n",
    "    t.pd()\n",
    "\n",
    "# draw a sequence of three flowers, as shown in the book.\n",
    "move(t, -100)\n",
    "flower(t, 7, 60.0, 30.0)\n",
    "\n",
    "move(t, 100)\n",
    "flower(t, 10, 40.0, 80.0)\n",
    "\n",
    "move(t, 100)\n",
    "flower(t, 20, 280.0, 20.0)\n",
    "\n",
    "t.hideturtle()\n",
    "turtle.mainloop()\n"
   ]
  },
  {
   "cell_type": "code",
   "execution_count": 189,
   "id": "b0155fc9-d01c-4900-a9be-f2da2a6ac0eb",
   "metadata": {},
   "outputs": [],
   "source": [
    "def eq_triangle(t,side):\n",
    "    for i in range(3):\n",
    "        t.fd(side)\n",
    "        t.lt(120)\n",
    "        \n",
    "\n",
    "# triangle(t,30)\n",
    "# t.mainloop()\n",
    "def triangle(t):\n",
    "    t.fd(100)\n",
    "    \n",
    "    t.lt(120)\n",
    "    t.fd(100)\n",
    "    \n",
    "    t.lt(120)\n",
    "    t.fd(100)\n",
    "    \n",
    "triangle(t)\n",
    "    \n",
    "def pentagon(t,side):\n",
    "    n=6\n",
    "    for i in range(n):\n",
    "        eq_triangle(t,side)\n",
    "        t.lt(60)\n",
    "    \n",
    "\n",
    "# pentagon(t,60)\n",
    "t.mainloop()"
   ]
  },
  {
   "cell_type": "code",
   "execution_count": 295,
   "id": "91fd5fbb-8171-40f7-ae99-2445198b97d2",
   "metadata": {},
   "outputs": [],
   "source": [
    "import turtle as t\n",
    "import math\n",
    "\n",
    "def polygon(t,n,length):\n",
    "    for i in range(n):\n",
    "            t.fd(length)\n",
    "            t.rt(360/n)\n",
    "            \n",
    "# polygon(t,5)\n",
    "# t.exitonclick()\n",
    "\n",
    "def circle(t,r):\n",
    "    circumference = 2 * math.pi * r\n",
    "    n=int(circumference/3)+1\n",
    "    length=circumference/n\n",
    "    polygon(t,n,length)\n",
    "    \n",
    "def arc(t,r,angle):\n",
    "    arc_length=2*math.pi*r*angle/360\n",
    "    n=int(arc_length /3)+1\n",
    "    step_length = arc_length / n\n",
    "    step_angle = angle/n\n",
    "    \n",
    "    for i in range(n):\n",
    "        t.fd(step_length)\n",
    "        t.rt(step_angle)\n",
    "\n",
    "def draw_a(t):\n",
    "    t.lt(60)\n",
    "    \n",
    "    t.fd(100)\n",
    "    t.rt(120)\n",
    "    \n",
    "    t.fd(100)\n",
    "    \n",
    "    t.back(50)\n",
    "    \n",
    "    t.rt(45)\n",
    "    \n",
    "    t.rt(75)\n",
    "    t.fd(50)\n",
    "\n",
    "    \n",
    "def draw_b(t):\n",
    "    t.lt(90)\n",
    "    \n",
    "    t.fd(100)\n",
    "    t.rt(90)\n",
    "    \n",
    "    arc(t,25,180)\n",
    "    \n",
    "    t.lt(180)\n",
    "    \n",
    "    arc(t,25,180)\n",
    "def draw_d(t):\n",
    "    t.lt(90)\n",
    "    \n",
    "    t.fd(100)\n",
    "    t.rt(90)\n",
    "    \n",
    "    arc(t,50,180)\n",
    "    \n",
    "def draw_h(t):\n",
    "    t.lt(90)\n",
    "    \n",
    "    t.fd(100)\n",
    "    \n",
    "    t.back(40)\n",
    "    \n",
    "    t.rt(90)\n",
    "    \n",
    "    arc(t,25,90)\n",
    "    \n",
    "    t.fd(40)\n",
    "    \n",
    "    \n",
    "def draw_y(t):\n",
    "    t.lt(65)\n",
    "    t.fd(100)\n",
    "    t.back(40)\n",
    "    \n",
    "    t.lt(60)\n",
    "    t.fd(50)\n",
    "\n",
    "draw_a(t)\n",
    "t.fd(50)\n",
    "t.reset()\n",
    "draw_b(t)\n",
    "t.fd(50)\n",
    "t.reset()\n",
    "draw_h(t)\n",
    "t.fd(50)\n",
    "t.reset()\n",
    "draw_a(t)\n",
    "t.fd(50)\n",
    "t.reset()\n",
    "draw_y(t)\n",
    "t.hideturtle()\n",
    "t.mainloop()"
   ]
  },
  {
   "cell_type": "code",
   "execution_count": 337,
   "id": "b618766f-ff78-4bfc-9ddc-e3c0d11333c1",
   "metadata": {},
   "outputs": [],
   "source": [
    "import turtle as t\n",
    "import math\n",
    "\n",
    "def polygon(t,n,length):\n",
    "    for i in range(n):\n",
    "            t.fd(length)\n",
    "            t.rt(360/n)\n",
    "            \n",
    "# polygon(t,5)\n",
    "# t.exitonclick()\n",
    "\n",
    "def circle(t,r):\n",
    "    circumference = 2 * math.pi * r\n",
    "    n=int(circumference/3)+1\n",
    "    length=circumference/n\n",
    "    polygon(t,n,length)\n",
    "    \n",
    "def arc(t,r,angle):\n",
    "    arc_length=2*math.pi*r*angle/360\n",
    "    n=int(arc_length /3)+1\n",
    "    step_length = arc_length / n\n",
    "    step_angle = angle/n\n",
    "    \n",
    "    for i in range(n):\n",
    "        t.fd(step_length)\n",
    "        t.rt(step_angle)\n",
    "\n",
    "def b_spiral(t,startingsize,distance):\n",
    "    for i in range(int(startingsize / 3) - 1):\n",
    "        arc(t,startingsize,180)\n",
    "        startingsize=startingsize - distance\n",
    "        \n",
    "def spiral(t,endsize,distance):\n",
    "        for i in range(int(endsize * 3) + 1):\n",
    "            arc(t,endsize,180)\n",
    "            endsize=endsize+distance\n",
    "        \n",
    "spiral(t,9,8)\n",
    "t.mainloop()"
   ]
  },
  {
   "cell_type": "markdown",
   "id": "ea001e49-4efe-401c-8bd1-786e31b6c18d",
   "metadata": {},
   "source": [
    "*Chapter 5 If*"
   ]
  },
  {
   "cell_type": "code",
   "execution_count": 338,
   "id": "90081def-244a-47c7-9de9-2ce62b5b8339",
   "metadata": {},
   "outputs": [
    {
     "data": {
      "text/plain": [
       "8"
      ]
     },
     "execution_count": 338,
     "metadata": {},
     "output_type": "execute_result"
    }
   ],
   "source": [
    "# Find the quotient without decimal numbers with floor division //\n",
    "60 // 7"
   ]
  },
  {
   "cell_type": "code",
   "execution_count": 339,
   "id": "39b02439-7f2b-4bf4-93aa-4684696a4e36",
   "metadata": {},
   "outputs": [
    {
     "data": {
      "text/plain": [
       "8.571428571428571"
      ]
     },
     "execution_count": 339,
     "metadata": {},
     "output_type": "execute_result"
    }
   ],
   "source": [
    "60 / 7"
   ]
  },
  {
   "cell_type": "code",
   "execution_count": 340,
   "id": "e8979adb-da82-4efc-ab8b-07b395fc6a43",
   "metadata": {},
   "outputs": [
    {
     "data": {
      "text/plain": [
       "1"
      ]
     },
     "execution_count": 340,
     "metadata": {},
     "output_type": "execute_result"
    }
   ],
   "source": [
    "# Find the remainder with the modulus operator %\n",
    "66 % 5"
   ]
  },
  {
   "cell_type": "code",
   "execution_count": 341,
   "id": "e8d6ad0f-5282-40ac-b1a2-c6d005683933",
   "metadata": {},
   "outputs": [
    {
     "data": {
      "text/plain": [
       "True"
      ]
     },
     "execution_count": 341,
     "metadata": {},
     "output_type": "execute_result"
    }
   ],
   "source": [
    "5 == 5"
   ]
  },
  {
   "cell_type": "code",
   "execution_count": 342,
   "id": "1113b61f-3907-4afd-b43f-d7b3ee6b900a",
   "metadata": {},
   "outputs": [
    {
     "data": {
      "text/plain": [
       "False"
      ]
     },
     "execution_count": 342,
     "metadata": {},
     "output_type": "execute_result"
    }
   ],
   "source": [
    "5==8"
   ]
  },
  {
   "cell_type": "code",
   "execution_count": 343,
   "id": "51dc61be-fc29-4078-aea3-ced6a5bee027",
   "metadata": {},
   "outputs": [
    {
     "name": "stdout",
     "output_type": "stream",
     "text": [
      "<class 'bool'>\n",
      "<class 'bool'>\n"
     ]
    }
   ],
   "source": [
    "print(type(False))\n",
    "print(type(True))"
   ]
  },
  {
   "cell_type": "code",
   "execution_count": 344,
   "id": "81ece201-de9d-4758-aaae-8ed6685725ba",
   "metadata": {},
   "outputs": [
    {
     "data": {
      "text/plain": [
       "False"
      ]
     },
     "execution_count": 344,
     "metadata": {},
     "output_type": "execute_result"
    }
   ],
   "source": [
    "5!=5"
   ]
  },
  {
   "cell_type": "code",
   "execution_count": 345,
   "id": "819e48eb-e7b1-497a-b3a9-b93c8ecf35ab",
   "metadata": {},
   "outputs": [
    {
     "data": {
      "text/plain": [
       "True"
      ]
     },
     "execution_count": 345,
     "metadata": {},
     "output_type": "execute_result"
    }
   ],
   "source": [
    "5>4"
   ]
  },
  {
   "cell_type": "code",
   "execution_count": 346,
   "id": "87ab0a53-b1c8-4fdd-8e4e-aa8f5bf3de4d",
   "metadata": {},
   "outputs": [
    {
     "data": {
      "text/plain": [
       "True"
      ]
     },
     "execution_count": 346,
     "metadata": {},
     "output_type": "execute_result"
    }
   ],
   "source": [
    "5<9"
   ]
  },
  {
   "cell_type": "code",
   "execution_count": 347,
   "id": "5c9e50f6-d3a4-45cd-bd77-479a43367199",
   "metadata": {},
   "outputs": [
    {
     "data": {
      "text/plain": [
       "True"
      ]
     },
     "execution_count": 347,
     "metadata": {},
     "output_type": "execute_result"
    }
   ],
   "source": [
    "5>=5"
   ]
  },
  {
   "cell_type": "code",
   "execution_count": 348,
   "id": "313c955a-a54d-4db2-8c47-b090d86e489d",
   "metadata": {},
   "outputs": [
    {
     "data": {
      "text/plain": [
       "True"
      ]
     },
     "execution_count": 348,
     "metadata": {},
     "output_type": "execute_result"
    }
   ],
   "source": [
    "5>=2"
   ]
  },
  {
   "cell_type": "code",
   "execution_count": 349,
   "id": "fe3dca27-56bf-4a0f-87ce-60adda2ebc08",
   "metadata": {},
   "outputs": [
    {
     "data": {
      "text/plain": [
       "True"
      ]
     },
     "execution_count": 349,
     "metadata": {},
     "output_type": "execute_result"
    }
   ],
   "source": [
    "7<=8"
   ]
  },
  {
   "cell_type": "code",
   "execution_count": 351,
   "id": "45d0a8bc-48ac-4524-9a92-1dd442fc183b",
   "metadata": {},
   "outputs": [
    {
     "data": {
      "text/plain": [
       "True"
      ]
     },
     "execution_count": 351,
     "metadata": {},
     "output_type": "execute_result"
    }
   ],
   "source": [
    "5 and True"
   ]
  },
  {
   "cell_type": "code",
   "execution_count": 352,
   "id": "7c42219a-7092-4160-88de-afc0086a6f6d",
   "metadata": {},
   "outputs": [
    {
     "data": {
      "text/plain": [
       "False"
      ]
     },
     "execution_count": 352,
     "metadata": {},
     "output_type": "execute_result"
    }
   ],
   "source": [
    "5 and False"
   ]
  },
  {
   "cell_type": "code",
   "execution_count": 353,
   "id": "2b119401-7161-4bc6-a413-7c762b59e5fc",
   "metadata": {},
   "outputs": [
    {
     "data": {
      "text/plain": [
       "False"
      ]
     },
     "execution_count": 353,
     "metadata": {},
     "output_type": "execute_result"
    }
   ],
   "source": [
    "True and False"
   ]
  },
  {
   "cell_type": "code",
   "execution_count": 354,
   "id": "67b420d0-b8b8-47f6-9ed2-bd7922d416b3",
   "metadata": {},
   "outputs": [
    {
     "data": {
      "text/plain": [
       "5"
      ]
     },
     "execution_count": 354,
     "metadata": {},
     "output_type": "execute_result"
    }
   ],
   "source": [
    "5 or True"
   ]
  },
  {
   "cell_type": "code",
   "execution_count": 355,
   "id": "60f64c14-9b81-44c7-bb3e-056ef157ae7f",
   "metadata": {},
   "outputs": [
    {
     "data": {
      "text/plain": [
       "5"
      ]
     },
     "execution_count": 355,
     "metadata": {},
     "output_type": "execute_result"
    }
   ],
   "source": [
    "5 or False"
   ]
  },
  {
   "cell_type": "code",
   "execution_count": 356,
   "id": "dc52ae40-6fea-4a9e-846c-9842ad50d922",
   "metadata": {},
   "outputs": [
    {
     "data": {
      "text/plain": [
       "True"
      ]
     },
     "execution_count": 356,
     "metadata": {},
     "output_type": "execute_result"
    }
   ],
   "source": [
    "True or False"
   ]
  },
  {
   "cell_type": "code",
   "execution_count": 357,
   "id": "bcbef3b7-e460-4ed6-8250-f359bfac8908",
   "metadata": {},
   "outputs": [
    {
     "data": {
      "text/plain": [
       "True"
      ]
     },
     "execution_count": 357,
     "metadata": {},
     "output_type": "execute_result"
    }
   ],
   "source": [
    "False or True"
   ]
  },
  {
   "cell_type": "code",
   "execution_count": 360,
   "id": "9f5bedec-b14f-4f35-8b43-85877fcbcea9",
   "metadata": {},
   "outputs": [
    {
     "data": {
      "text/plain": [
       "True"
      ]
     },
     "execution_count": 360,
     "metadata": {},
     "output_type": "execute_result"
    }
   ],
   "source": [
    "x=9\n",
    "y=10\n",
    "not (x>y)"
   ]
  },
  {
   "cell_type": "code",
   "execution_count": 361,
   "id": "a55d2693-2af7-45c0-abab-fb48b186ac98",
   "metadata": {},
   "outputs": [
    {
     "data": {
      "text/plain": [
       "False"
      ]
     },
     "execution_count": 361,
     "metadata": {},
     "output_type": "execute_result"
    }
   ],
   "source": [
    "a=9\n",
    "not (a==9)"
   ]
  },
  {
   "cell_type": "code",
   "execution_count": 368,
   "id": "84d39523-ccfb-4d5e-8d64-43301dcf63c4",
   "metadata": {},
   "outputs": [
    {
     "name": "stdin",
     "output_type": "stream",
     "text": [
      "Enter a number to check whether it is even or odd 12\n"
     ]
    },
    {
     "name": "stdout",
     "output_type": "stream",
     "text": [
      "\n",
      "Even Number\n",
      "Even Number\n",
      "Even Number\n",
      "Even Number\n",
      "Even Number\n",
      "Even Number\n",
      "Even Number\n",
      "Even Number\n",
      "Even Number\n",
      "Even Number\n",
      "Even Number\n",
      "Even Number\n",
      "Even Number\n",
      "Even Number\n",
      "Even Number\n",
      "Even Number\n"
     ]
    }
   ],
   "source": [
    "x=int(input(\"Enter a number to check whether it is even or odd\"))\n",
    "if x % 2 == 0:\n",
    "    print(\"\\nEven Number\"*16)\n",
    "else: print(\"\\nOdd Number\"*8)"
   ]
  },
  {
   "cell_type": "code",
   "execution_count": 373,
   "id": "3f1463de-3e5b-4f94-a707-6110d23da0b4",
   "metadata": {},
   "outputs": [
    {
     "name": "stdout",
     "output_type": "stream",
     "text": [
      "x is a positive single-digit number.\n"
     ]
    }
   ],
   "source": [
    "x=1\n",
    "if 0 < x:\n",
    "    if x < 10:\n",
    "        print('x is a positive single-digit number.')\n"
   ]
  },
  {
   "cell_type": "code",
   "execution_count": 375,
   "id": "a4d0e520-a6cb-49a6-ad1a-955c38080efd",
   "metadata": {},
   "outputs": [
    {
     "name": "stdin",
     "output_type": "stream",
     "text": [
      "\n",
      "No. 2\n"
     ]
    },
    {
     "name": "stdout",
     "output_type": "stream",
     "text": [
      "One digit no.\n"
     ]
    }
   ],
   "source": [
    "x=int(input(\"\\nNo.\"))\n",
    "if 0 < x < 10:\n",
    "    print(\"One digit no.\")"
   ]
  },
  {
   "cell_type": "code",
   "execution_count": 379,
   "id": "58fb657b-a881-4b3d-88c7-c1944e0e2ceb",
   "metadata": {},
   "outputs": [
    {
     "name": "stdout",
     "output_type": "stream",
     "text": [
      "9\n",
      "8\n",
      "7\n",
      "6\n",
      "5\n",
      "4\n",
      "3\n",
      "2\n",
      "1\n",
      "Bomb blasted\n"
     ]
    }
   ],
   "source": [
    "def countdown(n):\n",
    "    if n == 0:\n",
    "        print(\"Bomb blasted\")\n",
    "    else: \n",
    "        print(n)\n",
    "        countdown(n-1)\n",
    "countdown(9)"
   ]
  },
  {
   "cell_type": "code",
   "execution_count": 381,
   "id": "a29a6ec2-a1e5-440c-ad60-8d6805fc4cd1",
   "metadata": {},
   "outputs": [
    {
     "name": "stdout",
     "output_type": "stream",
     "text": [
      "Abhay\n",
      "Abhay\n",
      "Abhay\n",
      "Abhay\n",
      "Abhay\n"
     ]
    }
   ],
   "source": [
    "def print_n(s, n):\n",
    "    if n == 0:\n",
    "        return\n",
    "    print(s)\n",
    "    print_n(s,n-1)\n",
    "print_n(s='Abhay',n=5)"
   ]
  },
  {
   "cell_type": "code",
   "execution_count": 1,
   "id": "f3707924-5e1f-438c-9806-27a221f3bb3d",
   "metadata": {},
   "outputs": [
    {
     "name": "stdout",
     "output_type": "stream",
     "text": [
      "51 years 205 days 19 hours 28 mins 11 secs\n",
      "Time Since Epoche eg. 1 Jan 1970 Unix Time\n",
      "For Indian Standard Time/IST/Kolkata/Asia 24 hours 28 mins 11 secs\n"
     ]
    }
   ],
   "source": [
    "import time\n",
    "z = time.time()\n",
    "\n",
    "tm = z / 60 #total mins\n",
    "th = tm / 60 #total hours\n",
    "td = th / 24 #total days\n",
    "ty = td / 365 #total years\n",
    "\n",
    "a = int(td // 365) #int year\n",
    "b = ty - a #float - int year to get rest days, hours, mins\n",
    "c = b * 365 #multiplhng rest years to days\n",
    "d = int(c) # removing the decimal places\n",
    "e = c - d # getting rest days\n",
    "f = e * 24 # multiplying rest days\n",
    "g = int(f) # removing decimal places\n",
    "h = f - g # getting rest hours\n",
    "i = h * 60 # multiplying rest hours\n",
    "j = int(i) # removing decimal places\n",
    "k = i - j # getting rest seconds\n",
    "l = k * 60 # multiplying rest seconds\n",
    "m = int(l) # removing decimal places\n",
    "print(a,'years',d,'days',g,'hours',j,'mins',m,'secs',)\n",
    "print('Time Since Epoche eg. 1 Jan 1970 Unix Time')\n",
    "\n",
    "indh = g\n",
    "indm = j\n",
    "if j >=30:\n",
    "    indh = indh + 1\n",
    "    indm = indm - 30\n",
    "\n",
    "print('For Indian Standard Time/IST/Kolkata/Asia',indh+5,'hours',indm,'mins',m,'secs')"
   ]
  },
  {
   "cell_type": "code",
   "execution_count": 8,
   "id": "df8dabcf-74b3-4dca-9ad6-ea44e757fcb5",
   "metadata": {},
   "outputs": [
    {
     "name": "stdout",
     "output_type": "stream",
     "text": [
      "\n",
      "Welcome to Fermat\"s theorem checker\n",
      "a^n + b^n =c^ for n is greater than 2\n"
     ]
    },
    {
     "name": "stdin",
     "output_type": "stream",
     "text": [
      "Enter a 5\n",
      "Enter b 12\n",
      "Enter c 13\n",
      "Enter n 2\n"
     ]
    },
    {
     "name": "stdout",
     "output_type": "stream",
     "text": [
      "n should be greater than 2\n"
     ]
    }
   ],
   "source": [
    "# Fermat's Last Theorem\n",
    "print('\\nWelcome to Fermat\"s theorem checker')\n",
    "print(\"a^n + b^n =c^ for n is greater than 2\")\n",
    "a=int(input('Enter a'))\n",
    "b=int(input('Enter b'))\n",
    "c=int(input('Enter c'))\n",
    "n=int(input('Enter n'))\n",
    "def check_fermat(a,b,c,n):\n",
    "    if (a**n + b**n ==c**n and n>2):\n",
    "        print(\"No that doesn't Work\")\n",
    "    elif (n<=2):\n",
    "        print(\"n should be greater than 2\")\n",
    "    else :\n",
    "        print(\"Holy shit, Fermat was wrong!\")\n",
    "        \n",
    "check_fermat(a,b,c,n)"
   ]
  },
  {
   "cell_type": "code",
   "execution_count": 17,
   "id": "ecb234da-926d-496b-914d-39e5763cacb0",
   "metadata": {},
   "outputs": [
    {
     "name": "stdout",
     "output_type": "stream",
     "text": [
      "Check whether three sticks of specific length can make triangle or not\n"
     ]
    },
    {
     "name": "stdin",
     "output_type": "stream",
     "text": [
      "Enter a 12\n",
      "Enter b 13\n",
      "Enter c 5\n"
     ]
    },
    {
     "name": "stdout",
     "output_type": "stream",
     "text": [
      "Yes\n"
     ]
    }
   ],
   "source": [
    "print('Check whether three sticks of specific length can make triangle or not')\n",
    "a=int(input(\"Enter a\"))\n",
    "b=int(input(\"Enter b\"))\n",
    "c=int(input(\"Enter c\"))\n",
    "def is_triangle(a,b,c):\n",
    "    if (a+b<c):\n",
    "        print('No')\n",
    "    else : print(\"Yes\")\n",
    "# is_triangle(2,3,4)\n",
    "is_triangle(a,b,c)"
   ]
  },
  {
   "cell_type": "code",
   "execution_count": 9,
   "id": "28d7d8bf-fd78-46d8-90e0-9b1552375064",
   "metadata": {},
   "outputs": [
    {
     "name": "stdout",
     "output_type": "stream",
     "text": [
      "6\n",
      "This function does recursion\n",
      "Help on function recurse in module __main__:\n",
      "\n",
      "recurse(n, s)\n",
      "    This function does recursion\n",
      "\n"
     ]
    }
   ],
   "source": [
    "def recurse(n,s):\n",
    "    \"\"\"This function does recursion\"\"\"\n",
    "    if n == 0:\n",
    "        print(s)\n",
    "    else:\n",
    "        recurse(n-1,n+s)\n",
    "        \n",
    "recurse(3,0)\n",
    "# recurse(-1,0)\n",
    "print(recurse.__doc__)\n",
    "help(recurse)"
   ]
  },
  {
   "cell_type": "code",
   "execution_count": 15,
   "id": "083a8fdd-08ca-4715-94fd-c9c8badfddea",
   "metadata": {},
   "outputs": [],
   "source": [
    "import turtle as t\n",
    "def draw(t, length, n):\n",
    "    if n == 0:\n",
    "        return\n",
    "    angle = 50\n",
    "    t.fd(length*n)\n",
    "    t.lt(angle)\n",
    "    draw(t, length, n-1)\n",
    "    t.rt(2*angle)\n",
    "    draw(t, length, n-1)\n",
    "    t.lt(angle)\n",
    "    t.bk(length*n)\n",
    "\n",
    "draw(t,9,3)\n",
    "t.mainloop()"
   ]
  },
  {
   "cell_type": "code",
   "execution_count": 1,
   "id": "4b9c51ce-56f0-4b96-b15a-e70f488e52d3",
   "metadata": {},
   "outputs": [],
   "source": [
    "import turtle as t\n",
    "\n",
    "t.fd(90)\n",
    "t.backward(40)"
   ]
  },
  {
   "cell_type": "code",
   "execution_count": 1,
   "id": "7401fc70-a1ef-414d-b81b-6d466148812e",
   "metadata": {},
   "outputs": [
    {
     "name": "stdout",
     "output_type": "stream",
     "text": [
      "Hello\n"
     ]
    }
   ],
   "source": [
    "print(\"Hello\")"
   ]
  },
  {
   "cell_type": "code",
   "execution_count": 1,
   "id": "9886b9c2-3adc-4064-b5e3-569f98fa2d6e",
   "metadata": {},
   "outputs": [
    {
     "name": "stdout",
     "output_type": "stream",
     "text": [
      "0\n",
      "1\n",
      "2\n",
      "3\n",
      "4\n"
     ]
    }
   ],
   "source": [
    "for i in range(5):\n",
    "    print(i)\n"
   ]
  },
  {
   "cell_type": "code",
   "execution_count": 7,
   "id": "7ce2b47e-58d7-49aa-88ec-d3d609a8499f",
   "metadata": {},
   "outputs": [
    {
     "name": "stdout",
     "output_type": "stream",
     "text": [
      "Help\n"
     ]
    },
    {
     "name": "stdin",
     "output_type": "stream",
     "text": [
      "What help do you need? 12\n"
     ]
    },
    {
     "name": "stdout",
     "output_type": "stream",
     "text": [
      "Ok 12 will be fixed\n"
     ]
    }
   ],
   "source": [
    "import os \n",
    "\n",
    "print(\"Help\")\n",
    "def help(a):\n",
    "    a=input(\"What help do you need?\")\n",
    "    print(\"Ok\",a,\"will be fixed\")\n",
    "help(1)"
   ]
  },
  {
   "cell_type": "code",
   "execution_count": 19,
   "id": "aad7b80d-91b5-4cc0-8909-bd4f465d16e4",
   "metadata": {},
   "outputs": [],
   "source": [
    "import turtle as t\n",
    "\n",
    "def koch(t,x):\n",
    "    if (x<3):\n",
    "        t.fd(x)\n",
    "    else:\n",
    "        t.fd(x/3)\n",
    "        t.lt(60)\n",
    "        t.fd(x/3)\n",
    "        t.rt(120)\n",
    "        t.fd(x/3)\n",
    "        t.lt(60)\n",
    "        t.fd(x/3)\n",
    "koch(t,120)\n",
    "t.mainloop()"
   ]
  },
  {
   "cell_type": "code",
   "execution_count": null,
   "id": "9358952f-6fde-4b7b-97f8-e8031b1b5637",
   "metadata": {},
   "outputs": [],
   "source": []
  }
 ],
 "metadata": {
  "kernelspec": {
   "display_name": "Python 3 (ipykernel)",
   "language": "python",
   "name": "python3"
  },
  "language_info": {
   "codemirror_mode": {
    "name": "ipython",
    "version": 3
   },
   "file_extension": ".py",
   "mimetype": "text/x-python",
   "name": "python",
   "nbconvert_exporter": "python",
   "pygments_lexer": "ipython3",
   "version": "3.9.6"
  }
 },
 "nbformat": 4,
 "nbformat_minor": 5
}